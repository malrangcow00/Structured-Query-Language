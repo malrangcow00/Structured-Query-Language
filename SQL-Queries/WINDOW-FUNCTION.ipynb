{
 "cells": [
  {
   "cell_type": "markdown",
   "source": [
    "윈도우 함수를 사용하여 상위 N개에 대한 값을 추출할 수 있으나 단일 Query로 표현이 불가능하다."
   ],
   "metadata": {
    "collapsed": false
   },
   "id": "b33bb63275313e5b"
  }
 ],
 "metadata": {
  "kernelspec": {
   "display_name": "Python 3",
   "language": "python",
   "name": "python3"
  },
  "language_info": {
   "codemirror_mode": {
    "name": "ipython",
    "version": 2
   },
   "file_extension": ".py",
   "mimetype": "text/x-python",
   "name": "python",
   "nbconvert_exporter": "python",
   "pygments_lexer": "ipython2",
   "version": "2.7.6"
  }
 },
 "nbformat": 4,
 "nbformat_minor": 5
}
