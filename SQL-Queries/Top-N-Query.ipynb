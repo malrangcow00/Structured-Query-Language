{
 "cells": [
  {
   "cell_type": "markdown",
   "source": [
    "```sql\n",
    "SELECT *\n",
    "FROM table_name\n",
    "ORDER BY DESC\n",
    "FETCH FIRST n ROWS ONLY\n",
    ";\n",
    "```\n",
    "\n",
    "```sql\n",
    "SELECT *\n",
    "FROM table_name\n",
    "ORDER BY DESC\n",
    "FETCH NEXT n ROWS ONLY\n",
    ";\n",
    "```\n",
    "\n",
    "using window function\n",
    "```sql\n",
    "SELECT *\n",
    "FROM (\n",
    "    SELECT (column_name1, column_name2, column_name3\n",
    "    RANK() \n",
    "    OVER(ORDER BY column_name DESC) AS alias\n",
    "    FROM table_name\n",
    ")\n",
    "WHERE alias <= n\n",
    ";\n",
    "```\n",
    "\n",
    "ROWNUM을 기준으로 정렬할 때 ROWNUM을 내림차순 전에 별칭으로 설정해서 활용하지 않도록 주의하자.\n",
    "```sql\n",
    "SELECT *\n",
    "FROM (\n",
    "    SELECT alias.*\n",
    "    FROM table_name alias\n",
    "    ORDER BY column_name DESC\n",
    ")\n",
    "WHERE ROWNUM <= n\n",
    ";\n",
    "```"
   ],
   "metadata": {
    "collapsed": false
   },
   "id": "559372b7835b52f2"
  },
  {
   "cell_type": "markdown",
   "source": [
    "### DENSE_RANK()\n",
    "공동 순위에 속하는 개체를 하나로 취급\n",
    "ex, 1위(1명) 2위(2명), 3위(3명)\n",
    "&rarr; RANK()의 경우, 1위(명), 2위(2명), 4위(3명)이 된다."
   ],
   "metadata": {
    "collapsed": false
   },
   "id": "e8d30453930c6c12"
  }
 ],
 "metadata": {
  "kernelspec": {
   "display_name": "Python 3",
   "language": "python",
   "name": "python3"
  },
  "language_info": {
   "codemirror_mode": {
    "name": "ipython",
    "version": 2
   },
   "file_extension": ".py",
   "mimetype": "text/x-python",
   "name": "python",
   "nbconvert_exporter": "python",
   "pygments_lexer": "ipython2",
   "version": "2.7.6"
  }
 },
 "nbformat": 4,
 "nbformat_minor": 5
}
